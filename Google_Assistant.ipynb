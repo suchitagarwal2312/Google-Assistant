{
 "cells": [
  {
   "cell_type": "markdown",
   "metadata": {},
   "source": [
    "# WELCOME TO GOOGLE ASSISTANT MADE BY SUCHIT "
   ]
  },
  {
   "cell_type": "code",
   "execution_count": 3,
   "metadata": {},
   "outputs": [],
   "source": [
    "import json"
   ]
  },
  {
   "cell_type": "code",
   "execution_count": 4,
   "metadata": {},
   "outputs": [],
   "source": [
    "from difflib import get_close_matches"
   ]
  },
  {
   "cell_type": "code",
   "execution_count": 5,
   "metadata": {},
   "outputs": [],
   "source": [
    "data_open = open('C:\\\\Users\\\\vasu\\\\Desktop\\\\Python Projects\\\\Google Assistant\\\\data.json')"
   ]
  },
  {
   "cell_type": "code",
   "execution_count": 6,
   "metadata": {},
   "outputs": [],
   "source": [
    "data = json.load(data_open)"
   ]
  },
  {
   "cell_type": "code",
   "execution_count": 9,
   "metadata": {},
   "outputs": [
    {
     "data": {
      "text/plain": [
       "'if you want to check complete json file just run this line'"
      ]
     },
     "execution_count": 9,
     "metadata": {},
     "output_type": "execute_result"
    }
   ],
   "source": [
    "'''if you want to check complete json file just run this line'''\n",
    "#data   "
   ]
  },
  {
   "cell_type": "code",
   "execution_count": 6,
   "metadata": {},
   "outputs": [
    {
     "name": "stdout",
     "output_type": "stream",
     "text": [
      "Enter word you want to search APPLLEE\n"
     ]
    }
   ],
   "source": [
    "word = input(\"Enter word you want to search \")"
   ]
  },
  {
   "cell_type": "code",
   "execution_count": 7,
   "metadata": {},
   "outputs": [
    {
     "name": "stdout",
     "output_type": "stream",
     "text": [
      "The word to be searched is APPLLEE\n"
     ]
    }
   ],
   "source": [
    "print(\"The word to be entered by you is\" , format(word))"
   ]
  },
  {
   "cell_type": "code",
   "execution_count": 8,
   "metadata": {},
   "outputs": [],
   "source": [
    "word = word.lower()"
   ]
  },
  {
   "cell_type": "code",
   "execution_count": 9,
   "metadata": {},
   "outputs": [],
   "source": [
    "def search(word):\n",
    "    if word.lower() in data:\n",
    "        return data[word]\n",
    "    elif word.upper() in data:\n",
    "        return data[word]\n",
    "    elif len(get_close_matches(word , data.keys())) > 0:\n",
    "        print(\"You want to search for\" , (get_close_matches(word , data.keys())[0]).upper())\n",
    "        print(\"Is this is the word you want to search??\")\n",
    "        check = input(\"Press Y for yes and N for no  \")\n",
    "        if check == 'y' or check == 'Y':\n",
    "            return data[get_close_matches(word , data.keys())[0]]\n",
    "        elif check == 'n' or check == 'N':\n",
    "            return (\"Enter correct word\")\n",
    "        else:\n",
    "            return (\"Enter Correct Word To Be Searched\")"
   ]
  },
  {
   "cell_type": "code",
   "execution_count": 10,
   "metadata": {},
   "outputs": [
    {
     "name": "stdout",
     "output_type": "stream",
     "text": [
      "You want to search for APPLE\n",
      "Is this is the word you want to search??\n",
      "Press Y for yes and N for no  y\n"
     ]
    }
   ],
   "source": [
    "meaning = search(word)"
   ]
  },
  {
   "cell_type": "code",
   "execution_count": 13,
   "metadata": {},
   "outputs": [
    {
     "name": "stdout",
     "output_type": "stream",
     "text": [
      "A native Eurasian tree of the genus ''Malus''.\n",
      "The popular, crisp, round fruit of the apple tree, usually with red, yellow or green skin, light-coloured flesh and pips inside.\n",
      "The wood of the apple tree.\n",
      "You Want To Search More Words?? n\n"
     ]
    }
   ],
   "source": [
    "if type(meaning) == list:\n",
    "    for i in meaning:\n",
    "        print(i)\n",
    "else:\n",
    "    print(meaning)\n",
    "repeat = input(\"You Want To Search More Words?? \")"
   ]
  },
  {
   "cell_type": "code",
   "execution_count": 15,
   "metadata": {},
   "outputs": [
    {
     "name": "stdout",
     "output_type": "stream",
     "text": [
      "THANK YOU FOR USING!!!!\n"
     ]
    }
   ],
   "source": [
    "if repeat == 'y' or repeat == 'Y':\n",
    "        word = input(\"Enter word you want to search \")\n",
    "        new_meaning = search(word)\n",
    "        word = word.lower()\n",
    "        if type(new_meaning) == list:\n",
    "            for i in new_meaning:\n",
    "                print(i)\n",
    "        else:\n",
    "            print(new_meaning)\n",
    "else:\n",
    "    print(\"THANK YOU FOR USING!!!!\")"
   ]
  },
  {
   "cell_type": "code",
   "execution_count": null,
   "metadata": {},
   "outputs": [],
   "source": []
  }
 ],
 "metadata": {
  "kernelspec": {
   "display_name": "Python 3",
   "language": "python",
   "name": "python3"
  },
  "language_info": {
   "codemirror_mode": {
    "name": "ipython",
    "version": 3
   },
   "file_extension": ".py",
   "mimetype": "text/x-python",
   "name": "python",
   "nbconvert_exporter": "python",
   "pygments_lexer": "ipython3",
   "version": "3.8.3"
  }
 },
 "nbformat": 4,
 "nbformat_minor": 4
}
